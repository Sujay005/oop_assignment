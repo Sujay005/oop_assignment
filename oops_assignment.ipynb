{
  "nbformat": 4,
  "nbformat_minor": 0,
  "metadata": {
    "colab": {
      "provenance": []
    },
    "kernelspec": {
      "name": "python3",
      "display_name": "Python 3"
    },
    "language_info": {
      "name": "python"
    }
  },
  "cells": [
    {
      "cell_type": "code",
      "execution_count": null,
      "metadata": {
        "id": "OgfVPJeFi65_"
      },
      "outputs": [],
      "source": []
    },
    {
      "cell_type": "markdown",
      "source": [
        "# **1. What are the five key concepts of Object-Oriented Programming (OOP)?**\n",
        "\n",
        "\n",
        "**The five key concepts are-**\n",
        "\n",
        "1.Classes and objects\n",
        "\n",
        "2.Inheritence\n",
        "\n",
        "3.Abstraction\n",
        "\n",
        "4.Polymiorphism\n",
        "\n",
        "5.Encapsulation"
      ],
      "metadata": {
        "id": "_rLxlL27jYBF"
      }
    },
    {
      "cell_type": "markdown",
      "source": [
        "# **2. Write a Python class for a `Car` with attributes for `make`, `model`, and `year`. Include a method to display the car's information.**\n",
        "\n"
      ],
      "metadata": {
        "id": "_AKIJjtAjRa8"
      }
    },
    {
      "cell_type": "code",
      "source": [
        "class Car:\n",
        "    def __init__(self, make, model, year):\n",
        "        self.make = make\n",
        "        self.model = model\n",
        "        self.year = year\n",
        "\n",
        "    def display_info(self):\n",
        "        print(f\"Car Information: {self.year} {self.make} {self.model}\")\n",
        "\n",
        "# Example usage:\n",
        "my_car = Car(\"Suzuki\", \"Baleno\", 2021)\n",
        "my_car.display_info()\n"
      ],
      "metadata": {
        "colab": {
          "base_uri": "https://localhost:8080/"
        },
        "id": "2bgNibnXlRfM",
        "outputId": "619481b7-e198-445b-f28b-a1ed78ce1895"
      },
      "execution_count": 1,
      "outputs": [
        {
          "output_type": "stream",
          "name": "stdout",
          "text": [
            "Car Information: 2021 Suzuki Baleno\n"
          ]
        }
      ]
    },
    {
      "cell_type": "markdown",
      "source": [
        "# **3. Explain the difference between instance methods and class methods. Provide an example of each.**\n",
        "\n",
        "**1.Instance Methods:**\n",
        "\n",
        "Belong to a specific instance of a class.\n",
        "\n",
        "Can access and modify instance attributes (object-specific data).\n",
        "\n",
        "Require an instance of the class to be called and use self as the first parameter.\n",
        "\n",
        "\n",
        "**2.Class Methods:**\n",
        "\n",
        "Belong to the class itself rather than a specific instance.\n",
        "\n",
        "Cannot modify instance-specific data but can modify class-level data (shared across all instances).\n",
        "\n",
        "Use cls as the first parameter and are called with the @classmethod decorator.\n",
        "\n",
        "\n",
        "\n",
        "\n"
      ],
      "metadata": {
        "id": "gRBy4va_lnfB"
      }
    },
    {
      "cell_type": "code",
      "source": [
        "class smartphone:\n",
        "  ringtone = \"ring\"\n",
        "  def __init__(self, brand, model, price):\n",
        "    self.brand = brand\n",
        "    self.model = model\n",
        "    self.price = price\n",
        "\n",
        "  def display_info(self):          #Instance metod\n",
        "    print(f\"Brand: {self.brand}, Model: {self.model}, Price: {self.price}\")\n",
        "\n",
        "  @classmethod\n",
        "  def change_ringtone(cls,newringtone): #class method\n",
        "    cls.ringtone = newringtone\n",
        "\n",
        "\n",
        "#Example usage\n",
        "\n",
        "#using instance metod\n",
        "ph1 = smartphone('Oppo','A21',20000) #requires an object\n",
        "ph1.display_info()\n",
        "\n",
        "\n",
        "#using class method\n",
        "smartphone.change_ringtone('ding') #calling direct by class and no object creation required to call the method.\n",
        "print(smartphone.ringtone)"
      ],
      "metadata": {
        "colab": {
          "base_uri": "https://localhost:8080/"
        },
        "id": "oWRJ0sGLoIzz",
        "outputId": "727b495b-07f7-4e0e-a1cc-53be26e8c340"
      },
      "execution_count": 2,
      "outputs": [
        {
          "output_type": "stream",
          "name": "stdout",
          "text": [
            "Brand: Oppo, Model: A21, Price: 20000\n",
            "ding\n"
          ]
        }
      ]
    },
    {
      "cell_type": "markdown",
      "source": [
        "# **4. How does Python implement method overloading? Give an example.**\n",
        "\n",
        "Ans:-\n",
        "Python does not support traditional method overloading (having multiple methods with the same name but different parameter types or numbers, like in some other languages). Instead, Python achieves method overloading through default arguments, *args, and **kwargs to handle variable numbers or types of arguments.\n",
        "\n"
      ],
      "metadata": {
        "id": "yFhvxnO4rpu5"
      }
    },
    {
      "cell_type": "code",
      "source": [
        "class Calculator:\n",
        "    # Method with default parameters for overloading\n",
        "    def add(self, a=0, b=0, c=0):\n",
        "        return a + b + c\n",
        "\n",
        "# Example usage\n",
        "calc = Calculator()\n",
        "\n",
        "# Using two arguments\n",
        "print(calc.add(1, 2))  # Output: 3\n",
        "\n",
        "# Using three arguments\n",
        "print(calc.add(1, 2, 3))  # Output: 6\n",
        "\n",
        "# Using no arguments (defaults to 0)\n",
        "print(calc.add())  # Output: 0\n"
      ],
      "metadata": {
        "colab": {
          "base_uri": "https://localhost:8080/"
        },
        "id": "BSaIzPQsu2np",
        "outputId": "b61b8b58-9ccd-4e19-d13d-352f7128917e"
      },
      "execution_count": 3,
      "outputs": [
        {
          "output_type": "stream",
          "name": "stdout",
          "text": [
            "3\n",
            "6\n",
            "0\n"
          ]
        }
      ]
    },
    {
      "cell_type": "code",
      "source": [
        "#Example using args for variable no. of arguments\n",
        "class Calculator:\n",
        "    # Method using *args for overloading-like behavior\n",
        "    def add(self, *args):\n",
        "        return sum(args)\n",
        "\n",
        "# Example usage\n",
        "calc = Calculator()\n",
        "\n",
        "# Using two arguments\n",
        "print(calc.add(1, 2))  # Output: 3\n",
        "\n",
        "# Using three arguments\n",
        "print(calc.add(1, 2, 3))  # Output: 6\n",
        "\n",
        "# Using four arguments\n",
        "print(calc.add(1, 2, 3, 4))  # Output: 10\n"
      ],
      "metadata": {
        "colab": {
          "base_uri": "https://localhost:8080/"
        },
        "id": "YRAbx3luu7l7",
        "outputId": "e2bf13d5-8e43-464e-a720-8358ebabb531"
      },
      "execution_count": 4,
      "outputs": [
        {
          "output_type": "stream",
          "name": "stdout",
          "text": [
            "3\n",
            "6\n",
            "10\n"
          ]
        }
      ]
    },
    {
      "cell_type": "markdown",
      "source": [
        "# **5. What are the three types of access modifiers in Python? How are they denoted?**\n",
        "\n",
        "Ans:-In Python, there are three types of access modifiers used to control the visibility and accessibility of class attributes and methods. These are:\n",
        "\n",
        "\n",
        "   **Public**\n",
        "\n",
        "*   Accessible from both inside and outside the class.\n",
        "*   Denoted by: No special notation (normal attribute or method name).\n",
        "\n",
        "**Protected**\n",
        "\n",
        "*   Suggests the attribute or method should not be accessed outside of the class or its subclasses (convention-based).\n",
        "*   Denoted by: A single leading underscore (_)\n",
        "\n",
        "**Private**\n",
        "\n",
        "*   Not accessible directly outside the class. Python uses name mangling to make it harder to access private attributes or methods.\n",
        "*   Denoted by: Two leading underscores (__)\n",
        "\n",
        "\n",
        "\n",
        "\n",
        "\n",
        "\n",
        "\n",
        "\n",
        "\n",
        "\n"
      ],
      "metadata": {
        "id": "CFM9SVrCvTfJ"
      }
    },
    {
      "cell_type": "code",
      "source": [
        "class Employee:\n",
        "    def __init__(self, name, age, salary):\n",
        "        self.name = name          # Public\n",
        "        self._age = age           # Protected\n",
        "        self.__salary = salary    # Private\n",
        "\n",
        "    def display_info(self):\n",
        "        print(f\"Name: {self.name}, Age: {self._age}, Salary: {self.__salary}\")\n",
        "\n",
        "# Example usage\n",
        "emp = Employee(\"Sujay\", 21, 50000)\n",
        "print(emp.name)         # Public, accessible directly\n",
        "print(emp._age)         # Protected, accessible but by convention should not be used\n",
        "# print(emp.__salary)   # Private, will raise an AttributeError\n",
        "print(emp._Employee__salary)  # Name mangling, can access private attribute this way\n"
      ],
      "metadata": {
        "colab": {
          "base_uri": "https://localhost:8080/"
        },
        "id": "gQbB4siNx2wy",
        "outputId": "8bc7bad0-b3f6-459b-df9d-260727637d5d"
      },
      "execution_count": 5,
      "outputs": [
        {
          "output_type": "stream",
          "name": "stdout",
          "text": [
            "Sujay\n",
            "21\n",
            "50000\n"
          ]
        }
      ]
    },
    {
      "cell_type": "markdown",
      "source": [
        "# **6. Describe the five types of inheritance in Python. Provide a simple example of multiple inheritance.**\n",
        "\n",
        "Ans:- **Five types of inheritance in python:**\n",
        "\n",
        "**1.Single inheritance.**\n",
        "\n",
        "*   A class inherits from one base class.\n",
        "*   Example: class B(A): (B inherits from A)\n",
        "\n",
        "**2.Multiple inheritance.**\n",
        "\n",
        "*   A class inherits from more than one base class\n",
        "*   Example: class C(A, B): (C inherits from both A and B)\n",
        "\n",
        "**3.Multilevel inheritance**\n",
        "\n",
        "*   A class inherits from a class, which in turn inherits from another class (forming a chain).\n",
        "*   Example: class C(B): (C inherits from B, which inherits from A).\n",
        "\n",
        "**4.Heirarchical inheritance.**\n",
        "\n",
        "*   Multiple classes inherit from the same base class.\n",
        "*   Example: class B(A):, class C(A): (B and C both inherit from A)\n",
        "\n",
        "**5.Hybrid inheritance.**\n",
        "\n",
        "*   A combination of two or more types of inheritance (like combining multiple and hierarchical inheritance).\n",
        "*   Example: A complex structure involving multiple and hierarchical inheritance patterns.\n",
        "\n",
        "\n",
        "\n",
        "\n",
        "\n",
        "\n",
        "\n",
        "\n",
        "   \n",
        "\n",
        "\n"
      ],
      "metadata": {
        "id": "mTgGRT-bzPUD"
      }
    },
    {
      "cell_type": "code",
      "source": [
        "class Engine:\n",
        "    def start(self):\n",
        "        print(\"Engine started.\")\n",
        "\n",
        "class Wheels:\n",
        "    def rotate(self):\n",
        "        print(\"Wheels are rotating.\")\n",
        "\n",
        "class Car(Engine, Wheels):\n",
        "    def drive(self):\n",
        "        print(\"Car is driving.\")\n",
        "\n",
        "# Example usage:\n",
        "my_car = Car()\n",
        "my_car.start()   # Inherited from Engine\n",
        "my_car.rotate()  # Inherited from Wheels\n",
        "my_car.drive()   # Defined in Car\n"
      ],
      "metadata": {
        "colab": {
          "base_uri": "https://localhost:8080/"
        },
        "id": "SISR65ZT6XfN",
        "outputId": "e9a6d7ce-262e-44ed-bb2d-71b02089c834"
      },
      "execution_count": 6,
      "outputs": [
        {
          "output_type": "stream",
          "name": "stdout",
          "text": [
            "Engine started.\n",
            "Wheels are rotating.\n",
            "Car is driving.\n"
          ]
        }
      ]
    },
    {
      "cell_type": "markdown",
      "source": [
        "# **7. What is the Method Resolution Order (MRO) in Python? How can you retrieve it programmatically?**\n",
        "\n",
        "Ans:-Method Resolution Order (MRO) is a mechanism in Python that determines the order in which base classes are searched when executing a method. This is particularly important in the context of inheritance, especially with multiple inheritance, where a class may inherit from multiple parent classes.\n",
        "\n",
        "The MRO defines the sequence of classes that Python will check when looking for a method or attribute. Python uses the C3 linearization algorithm to determine this order, ensuring a consistent and predictable method resolution.\n",
        "\n",
        "**Retrieving  MRO Programmatically.**\n",
        "\n",
        "You can retrieve the MRO of a class using the __mro__ attribute or the mro() method. Both provide the same information about the MRO.\n"
      ],
      "metadata": {
        "id": "vJlSJtMW-hwq"
      }
    },
    {
      "cell_type": "code",
      "source": [
        "class A:\n",
        "    pass\n",
        "\n",
        "class B(A):\n",
        "    pass\n",
        "\n",
        "class C(A):\n",
        "    pass\n",
        "\n",
        "class D(B, C):\n",
        "    pass\n",
        "\n",
        "# Retrieve MRO\n",
        "print(D.__mro__)  # Using __mro__ attribute\n",
        "print(D.mro())    # Using mro() method\n"
      ],
      "metadata": {
        "colab": {
          "base_uri": "https://localhost:8080/"
        },
        "id": "CK018WGxEpPC",
        "outputId": "1c425f8a-66b6-4723-8f52-2f9baa95a530"
      },
      "execution_count": 7,
      "outputs": [
        {
          "output_type": "stream",
          "name": "stdout",
          "text": [
            "(<class '__main__.D'>, <class '__main__.B'>, <class '__main__.C'>, <class '__main__.A'>, <class 'object'>)\n",
            "[<class '__main__.D'>, <class '__main__.B'>, <class '__main__.C'>, <class '__main__.A'>, <class 'object'>]\n"
          ]
        }
      ]
    },
    {
      "cell_type": "markdown",
      "source": [
        "# **8. Create an abstract base class `Shape` with an abstract method `area()`. Then create two subclasses `Circle` and `Rectangle` that implement the `area()` method.**\n",
        "\n",
        "\n"
      ],
      "metadata": {
        "id": "kzGJ-uKMFgFQ"
      }
    },
    {
      "cell_type": "code",
      "source": [
        "from abc import ABC\n",
        "import math\n",
        "\n",
        "# Abstract base class\n",
        "class Shape(ABC):\n",
        "\n",
        "    @abstractmethod\n",
        "    def area(self):\n",
        "        pass\n",
        "\n",
        "# Subclass for Circle\n",
        "class Circle(Shape):\n",
        "    def __init__(self, radius):\n",
        "        self.radius = radius\n",
        "\n",
        "    def area(self):\n",
        "        return math.pi * (self.radius ** 2)\n",
        "\n",
        "# Subclass for Rectangle\n",
        "class Rectangle(Shape):\n",
        "    def __init__(self, width, height):\n",
        "        self.width = width\n",
        "        self.height = height\n",
        "\n",
        "    def area(self):\n",
        "        return self.width * self.height\n",
        "\n",
        "# Example usage\n",
        "circle = Circle(5)\n",
        "rectangle = Rectangle(4, 6)\n",
        "\n",
        "print(f\"Area of the circle: {circle.area():.2f}\")\n",
        "print(f\"Area of the rectangle: {rectangle.area()}\")\n"
      ],
      "metadata": {
        "colab": {
          "base_uri": "https://localhost:8080/"
        },
        "id": "4cpCXe72GT9g",
        "outputId": "4dc34361-97f5-42fb-bab5-97caa34191a6"
      },
      "execution_count": 9,
      "outputs": [
        {
          "output_type": "stream",
          "name": "stdout",
          "text": [
            "Area of the circle: 78.54\n",
            "Area of the rectangle: 24\n"
          ]
        }
      ]
    },
    {
      "cell_type": "markdown",
      "source": [
        "# **9. Demonstrate polymorphism by creating a function that can work with different shape objects to calculate and print their areas.**\n",
        "\n"
      ],
      "metadata": {
        "id": "GhtlnUPIOZPu"
      }
    },
    {
      "cell_type": "code",
      "source": [
        "from abc import ABC\n",
        "import math\n",
        "\n",
        "# Abstract base class\n",
        "class Shape(ABC):\n",
        "\n",
        "    @abstractmethod\n",
        "    def area(self):\n",
        "        pass\n",
        "\n",
        "# Subclass for Circle\n",
        "class Circle(Shape):\n",
        "    def __init__(self, radius):\n",
        "        self.radius = radius\n",
        "\n",
        "    def area(self):\n",
        "        return math.pi * (self.radius ** 2)\n",
        "\n",
        "# Subclass for Rectangle\n",
        "class Rectangle(Shape):\n",
        "    def __init__(self, width, height):\n",
        "        self.width = width\n",
        "        self.height = height\n",
        "\n",
        "    def area(self):\n",
        "        return self.width * self.height\n",
        "\n",
        "def printarea(shape):\n",
        "  print(f\"area of given shape is {shape.area():.2f}\")\n",
        "\n",
        "# Example usage\n",
        "circle = Circle(5)\n",
        "rectangle = Rectangle(4, 6)\n",
        "\n",
        "printarea(circle)\n",
        "printarea(rectangle)"
      ],
      "metadata": {
        "colab": {
          "base_uri": "https://localhost:8080/"
        },
        "id": "S97DX6VSOgHK",
        "outputId": "bc9bddf6-520f-401b-81e8-0a2617c02d82"
      },
      "execution_count": 11,
      "outputs": [
        {
          "output_type": "stream",
          "name": "stdout",
          "text": [
            "area of given shape is 78.54\n",
            "area of given shape is 24.00\n"
          ]
        }
      ]
    },
    {
      "cell_type": "markdown",
      "source": [
        "# **10. Implement encapsulation in a `BankAccount` class with private attributes for `balance` and`account_number`. Include methods for deposit, withdrawal, and balance inquiry.**"
      ],
      "metadata": {
        "id": "GEx4plr1QYJN"
      }
    },
    {
      "cell_type": "code",
      "source": [
        "class BankAccount:\n",
        "    def __init__(self, account_number, initial_balance=0):\n",
        "        self.__account_number = account_number  # Private attribute\n",
        "        self.__balance = initial_balance        # Private attribute\n",
        "\n",
        "    def deposit(self, amount):\n",
        "        if amount > 0:\n",
        "            self.__balance += amount\n",
        "        else:\n",
        "            print(\"Deposit amount must be positive.\")\n",
        "\n",
        "    def withdraw(self, amount):\n",
        "        if 0 < amount <= self.__balance:\n",
        "            self.__balance -= amount\n",
        "        else:\n",
        "            print(\"Insufficient funds or invalid withdrawal amount.\")\n",
        "\n",
        "    def get_balance(self):\n",
        "        return self.__balance\n",
        "\n",
        "    def get_account_number(self):\n",
        "        return self.__account_number\n",
        "\n",
        "# Example usage\n",
        "account = BankAccount(\"123456789\", 1000)\n",
        "\n",
        "# Perform some operations\n",
        "account.deposit(500)                     # Deposit $500\n",
        "account.withdraw(200)                    # Withdraw $200\n",
        "print(account.get_balance())             # Check balance\n",
        "print(account.get_account_number())      # Check account number\n",
        "\n",
        "\n"
      ],
      "metadata": {
        "colab": {
          "base_uri": "https://localhost:8080/"
        },
        "id": "dz8FZvg5VLFQ",
        "outputId": "7d7413cc-e519-457a-ba78-04fe5c42e32f"
      },
      "execution_count": 14,
      "outputs": [
        {
          "output_type": "stream",
          "name": "stdout",
          "text": [
            "1300\n",
            "123456789\n"
          ]
        }
      ]
    },
    {
      "cell_type": "markdown",
      "source": [
        "# **11. Write a class that overrides the `__str__` and `__add__` magic methods. What will these methods allow you to do?**"
      ],
      "metadata": {
        "id": "EXGoSKDOXWWU"
      }
    },
    {
      "cell_type": "code",
      "source": [
        "class Book:\n",
        "    def __init__(self, title, author, pages):\n",
        "        self.title = title\n",
        "        self.author = author\n",
        "        self.pages = pages\n",
        "\n",
        "    # Overriding the __str__ method\n",
        "    def __str__(self):\n",
        "        return f\"'{self.title}' by {self.author}, {self.pages} pages\"\n",
        "\n",
        "    # Overriding the __add__ method\n",
        "    def __add__(self, other):\n",
        "        if isinstance(other, Book):\n",
        "            # Combining the number of pages from both books\n",
        "            return self.pages + other.pages\n",
        "        return NotImplemented\n",
        "\n",
        "# Example usage\n",
        "book1 = Book(\"1984\", \"George Orwell\", 328)\n",
        "book2 = Book(\"Brave New World\", \"Aldous Huxley\", 311)\n",
        "\n",
        "# Using the __str__ method\n",
        "print(book1)  # Output: '1984' by George Orwell, 328 pages\n",
        "print(book2)  # Output: 'Brave New World' by Aldous Huxley, 311 pages\n",
        "\n",
        "# Using the __add__ method\n",
        "total_pages = book1 + book2\n",
        "print(f\"Total pages: {total_pages}\")  # Output: Total pages: 639\n",
        "\n"
      ],
      "metadata": {
        "colab": {
          "base_uri": "https://localhost:8080/"
        },
        "id": "EyftYnm_54zf",
        "outputId": "c0b06b2c-ebee-4f73-8a54-716153b3cc3b"
      },
      "execution_count": 1,
      "outputs": [
        {
          "output_type": "stream",
          "name": "stdout",
          "text": [
            "'1984' by George Orwell, 328 pages\n",
            "'Brave New World' by Aldous Huxley, 311 pages\n",
            "Total pages: 639\n"
          ]
        }
      ]
    },
    {
      "cell_type": "markdown",
      "source": [
        "# **12. Create a decorator that measures and prints the execution time of a function.**"
      ],
      "metadata": {
        "id": "0g2u_l__6I7f"
      }
    },
    {
      "cell_type": "code",
      "source": [
        "import time\n",
        "\n",
        "# Decorator to measure execution time\n",
        "def measure_time(func):\n",
        "    def wrapper(*args, **kwargs):\n",
        "        start_time = time.time()  # Record the start time\n",
        "        result = func(*args, **kwargs)  # Execute the function\n",
        "        end_time = time.time()  # Record the end time\n",
        "        execution_time = end_time - start_time  # Calculate the execution time\n",
        "        print(f\"Function '{func.__name__}' executed in {execution_time:.4f} seconds\")\n",
        "        return result\n",
        "    return wrapper\n",
        "\n",
        "# Example usage\n",
        "@measure_time\n",
        "def example_function():\n",
        "    time.sleep(2)  # Simulating a function that takes time to execute\n",
        "    print(\"Function executed\")\n",
        "\n",
        "example_function()\n"
      ],
      "metadata": {
        "colab": {
          "base_uri": "https://localhost:8080/"
        },
        "id": "V2eSEiOF64kM",
        "outputId": "f30301bb-81d4-4cb4-9c78-76fd10e1a590"
      },
      "execution_count": 3,
      "outputs": [
        {
          "output_type": "stream",
          "name": "stdout",
          "text": [
            "Function executed\n",
            "Function 'example_function' executed in 2.0030 seconds\n"
          ]
        }
      ]
    },
    {
      "cell_type": "markdown",
      "source": [
        "# **13. Explain the concept of the Diamond Problem in multiple inheritance. How does Python resolve it?**\n",
        "\n",
        "Ans:- The Diamond Problem is a well-known issue in object-oriented programming that occurs in languages supporting multiple inheritance. It arises when a class inherits from two or more classes that have a common ancestor. The problem is that it can be unclear which version of a method or attribute should be inherited, leading to ambiguity.\n",
        "\n",
        "\n",
        "  **Python's solution to diamond problem: Method Resolution order-**\n",
        "\n",
        "  Python resolves the Diamond Problem using the Method Resolution Order (MRO). The MRO determines the order in which base classes are searched when looking for a method or attribute. Python uses the C3 linearization algorithm to create a consistent order for method resolution."
      ],
      "metadata": {
        "id": "ueKO26hW9-74"
      }
    },
    {
      "cell_type": "code",
      "source": [
        "class A:\n",
        "    def method(self):\n",
        "        print(\"Method from A\")\n",
        "\n",
        "class B(A):\n",
        "    def method(self):\n",
        "        print(\"Method from B\")\n",
        "\n",
        "class C(A):\n",
        "    def method(self):\n",
        "        print(\"Method from C\")\n",
        "\n",
        "class D(B, C):\n",
        "    pass\n",
        "\n",
        "# Create an instance of D\n",
        "d = D()\n",
        "d.method()  # Which method will be called?\n",
        "\n",
        "# Print the MRO\n",
        "print(D.mro())  # Method Resolution Order\n"
      ],
      "metadata": {
        "colab": {
          "base_uri": "https://localhost:8080/"
        },
        "id": "_O1SQDvS-6gE",
        "outputId": "461d85f4-d597-46e9-fa40-d2d862f79ed6"
      },
      "execution_count": 4,
      "outputs": [
        {
          "output_type": "stream",
          "name": "stdout",
          "text": [
            "Method from B\n",
            "[<class '__main__.D'>, <class '__main__.B'>, <class '__main__.C'>, <class '__main__.A'>, <class 'object'>]\n"
          ]
        }
      ]
    },
    {
      "cell_type": "markdown",
      "source": [
        "# **14. Write a class method that keeps track of the number of instances created from a class.**\n",
        "\n"
      ],
      "metadata": {
        "id": "xCTuZ12A_aw7"
      }
    },
    {
      "cell_type": "code",
      "source": [
        "class MyClass:\n",
        "    # Class variable to store the number of instances\n",
        "    instance_count = 0\n",
        "\n",
        "    def __init__(self):\n",
        "        # Increment the instance count each time a new object is created\n",
        "        MyClass.instance_count += 1\n",
        "\n",
        "    # Class method to access the instance count\n",
        "    @classmethod\n",
        "    def get_instance_count(cls):\n",
        "        return cls.instance_count\n",
        "\n",
        "# Example usage\n",
        "obj1 = MyClass()\n",
        "obj2 = MyClass()\n",
        "obj3 = MyClass()\n",
        "\n",
        "print(f\"Number of instances created: {MyClass.get_instance_count()}\")\n"
      ],
      "metadata": {
        "colab": {
          "base_uri": "https://localhost:8080/"
        },
        "id": "9vPER8dk_gkQ",
        "outputId": "e2683e0b-8fdd-4c78-b832-292a946ca34e"
      },
      "execution_count": 5,
      "outputs": [
        {
          "output_type": "stream",
          "name": "stdout",
          "text": [
            "Number of instances created: 3\n"
          ]
        }
      ]
    },
    {
      "cell_type": "markdown",
      "source": [
        "# **15. Implement a static method in a class that checks if a given year is a leap year.**"
      ],
      "metadata": {
        "id": "PGxIS7BX_3rU"
      }
    },
    {
      "cell_type": "code",
      "source": [
        "class Calendar:\n",
        "\n",
        "    @staticmethod\n",
        "    def is_leap_year(year):\n",
        "        # A leap year is divisible by 4 but not divisible by 100, unless divisible by 400\n",
        "        if (year % 4 == 0 and year % 100 != 0) or (year % 400 == 0):\n",
        "            return True\n",
        "        return False\n",
        "\n",
        "# Example usage\n",
        "print(Calendar.is_leap_year(2024))\n",
        "print(Calendar.is_leap_year(1900))\n",
        "print(Calendar.is_leap_year(2000))\n"
      ],
      "metadata": {
        "id": "5hWqz47V_7rn"
      },
      "execution_count": null,
      "outputs": []
    }
  ]
}